{
 "cells": [
  {
   "cell_type": "markdown",
   "metadata": {},
   "source": [
    "# 3D U-Net Model for Lung CT Image Segmentation\n",
    "\n",
    "## Overview\n",
    "\n",
    "This notebook demonstrates the implementation and training of a 3D U-Net model for segmenting lung structures from 3D CT scans.\n",
    "\n",
    "## Key Features\n",
    "\n",
    "- **Model Architecture**: Utilizes a 3D U-Net network.\n",
    "- **Loss Function**: Combines Mean Absolute Error (MAE) and Dice score\n",
    "- **Training**: Includes setup for training\n"
   ]
  },
  {
   "cell_type": "code",
   "execution_count": 1,
   "metadata": {
    "editable": true,
    "slideshow": {
     "slide_type": ""
    },
    "tags": []
   },
   "outputs": [],
   "source": [
    "# Parameters\n",
    "\n",
    "# specific number for file name\n",
    "spec = 5\n",
    "\n",
    "# select test(1) or training(0)\n",
    "test = 0\n",
    "\n",
    "# paramters training\n",
    "batch_size = 1\n",
    "number_of_epochs = 100"
   ]
  },
  {
   "cell_type": "code",
   "execution_count": 2,
   "metadata": {
    "tags": []
   },
   "outputs": [
    {
     "name": "stdout",
     "output_type": "stream",
     "text": [
      "/data-synology/anlee\n"
     ]
    }
   ],
   "source": [
    "cd /data-synology/anlee/"
   ]
  },
  {
   "cell_type": "code",
   "execution_count": 3,
   "metadata": {
    "colab": {
     "base_uri": "https://localhost:8080/"
    },
    "executionInfo": {
     "elapsed": 435,
     "status": "ok",
     "timestamp": 1691536112346,
     "user": {
      "displayName": "Thomas Keller",
      "userId": "17223430032597201940"
     },
     "user_tz": 420
    },
    "id": "vgh3OIul1RvA",
    "outputId": "e2130622-09d6-4496-d403-59e9c73ad2ae",
    "tags": []
   },
   "outputs": [
    {
     "name": "stdout",
     "output_type": "stream",
     "text": [
      " \u001b[0m\u001b[01;34mCOPDGene\u001b[0m/            \u001b[01;32mfilenamestrain.npy\u001b[0m*   \u001b[01;34msoftmasks\u001b[0m/           \u001b[01;34m'testing ccc'\u001b[0m/\n",
      " \u001b[01;34mfeatures\u001b[0m/            \u001b[01;32mfilenamesval.npy\u001b[0m*     \u001b[01;34msoftmasks_summer23\u001b[0m/   \u001b[01;32mtestnpy.npy\u001b[0m*\n",
      " \u001b[01;34mfeatures_CCC\u001b[0m/        \u001b[01;34mheatmaps\u001b[0m/             \u001b[01;32mtest\u001b[0m*\n",
      " \u001b[01;34mfeatures_CCC_meas\u001b[0m/   \u001b[01;34msaliency\u001b[0m/             \u001b[01;32mtest2\u001b[0m*\n",
      " \u001b[01;32mfilenamestest.npy\u001b[0m*   \u001b[01;34msmoothgrad\u001b[0m/           \u001b[01;32mtest3\u001b[0m*\n"
     ]
    }
   ],
   "source": [
    "ls"
   ]
  },
  {
   "cell_type": "code",
   "execution_count": 4,
   "metadata": {
    "executionInfo": {
     "elapsed": 4870,
     "status": "ok",
     "timestamp": 1691536123960,
     "user": {
      "displayName": "Thomas Keller",
      "userId": "17223430032597201940"
     },
     "user_tz": 420
    },
    "id": "5_BvSxkr3BBw",
    "tags": []
   },
   "outputs": [
    {
     "name": "stderr",
     "output_type": "stream",
     "text": [
      "2024-04-10 20:26:48.623474: E tensorflow/compiler/xla/stream_executor/cuda/cuda_dnn.cc:9342] Unable to register cuDNN factory: Attempting to register factory for plugin cuDNN when one has already been registered\n",
      "2024-04-10 20:26:48.623512: E tensorflow/compiler/xla/stream_executor/cuda/cuda_fft.cc:609] Unable to register cuFFT factory: Attempting to register factory for plugin cuFFT when one has already been registered\n",
      "2024-04-10 20:26:48.623534: E tensorflow/compiler/xla/stream_executor/cuda/cuda_blas.cc:1518] Unable to register cuBLAS factory: Attempting to register factory for plugin cuBLAS when one has already been registered\n",
      "2024-04-10 20:26:48.633179: I tensorflow/core/platform/cpu_feature_guard.cc:182] This TensorFlow binary is optimized to use available CPU instructions in performance-critical operations.\n",
      "To enable the following instructions: AVX2 FMA, in other operations, rebuild TensorFlow with the appropriate compiler flags.\n"
     ]
    },
    {
     "name": "stdout",
     "output_type": "stream",
     "text": [
      "[PhysicalDevice(name='/physical_device:GPU:0', device_type='GPU')]\n"
     ]
    },
    {
     "name": "stderr",
     "output_type": "stream",
     "text": [
      "2024-04-10 20:26:50.358238: I tensorflow/compiler/xla/stream_executor/cuda/cuda_gpu_executor.cc:894] successful NUMA node read from SysFS had negative value (-1), but there must be at least one NUMA node, so returning NUMA node zero. See more at https://github.com/torvalds/linux/blob/v6.0/Documentation/ABI/testing/sysfs-bus-pci#L344-L355\n",
      "2024-04-10 20:26:50.363216: I tensorflow/compiler/xla/stream_executor/cuda/cuda_gpu_executor.cc:894] successful NUMA node read from SysFS had negative value (-1), but there must be at least one NUMA node, so returning NUMA node zero. See more at https://github.com/torvalds/linux/blob/v6.0/Documentation/ABI/testing/sysfs-bus-pci#L344-L355\n",
      "2024-04-10 20:26:50.364509: I tensorflow/compiler/xla/stream_executor/cuda/cuda_gpu_executor.cc:894] successful NUMA node read from SysFS had negative value (-1), but there must be at least one NUMA node, so returning NUMA node zero. See more at https://github.com/torvalds/linux/blob/v6.0/Documentation/ABI/testing/sysfs-bus-pci#L344-L355\n"
     ]
    }
   ],
   "source": [
    "# includes & imports\n",
    "import os\n",
    "os.environ[\"CUDA_DEVICE_ORDER\"]=\"PCI_BUS_ID\"\n",
    "os.environ[\"CUDA_VISIBLE_DEVICES\"]=\"1\" #for CPU \"\"\n",
    "\n",
    "import shutil\n",
    "import nibabel as nib\n",
    "import numpy as np\n",
    "import matplotlib.pyplot as plt\n",
    "import scipy.ndimage as ndi\n",
    "#import nilearn as nil\n",
    "import tensorflow as tf\n",
    "\n",
    "print(tf.config.list_physical_devices('GPU'))\n",
    "\n",
    "# random seeds\n",
    "np.random.seed(16)\n",
    "tf.random.set_seed(16)\n",
    "tf.keras.utils.set_random_seed(16)"
   ]
  },
  {
   "cell_type": "markdown",
   "metadata": {
    "id": "0mhg2AoOLcAf"
   },
   "source": [
    "Build an input pipeline with image paths"
   ]
  },
  {
   "cell_type": "code",
   "execution_count": 5,
   "metadata": {
    "colab": {
     "base_uri": "https://localhost:8080/"
    },
    "executionInfo": {
     "elapsed": 31949,
     "status": "ok",
     "timestamp": 1689621403431,
     "user": {
      "displayName": "Thomas Keller",
      "userId": "17223430032597201940"
     },
     "user_tz": 420
    },
    "id": "Szib1HgsLasf",
    "outputId": "35cd0da8-264b-4d44-b2bc-696a97668cb6",
    "tags": []
   },
   "outputs": [
    {
     "name": "stderr",
     "output_type": "stream",
     "text": [
      "9116it [00:21, 427.51it/s]\n",
      "9116it [00:17, 526.58it/s]\n",
      "9116it [00:17, 528.78it/s]\n"
     ]
    },
    {
     "name": "stdout",
     "output_type": "stream",
     "text": [
      "Image input paths:\n",
      "/data-synology/anlee/COPDGene/26055P_PIT_COPD_26055P_PIT_COPD/insp_ct_ds.nii\n",
      "/data-synology/anlee/COPDGene/26056R_HAR_COPD_26056R_HAR_COPD/insp_ct_ds.nii\n",
      "/data-synology/anlee/COPDGene/26057T_PIT_COPD_26057T_PIT_COPD/insp_ct_ds.nii\n",
      "/data-synology/anlee/COPDGene/26058V_HAR_COPD_26058V_HAR_COPD/insp_ct_ds.nii\n",
      "/data-synology/anlee/COPDGene/26059X_HAR_COPD_26059X_HAR_COPD/insp_ct_ds.nii\n",
      "Image ouput paths:\n",
      "/data-synology/anlee/COPDGene/26055P_PIT_COPD_26055P_PIT_COPD/exp_ct_deform_ds.nii\n",
      "/data-synology/anlee/COPDGene/26056R_HAR_COPD_26056R_HAR_COPD/exp_ct_deform_ds.nii\n",
      "/data-synology/anlee/COPDGene/26057T_PIT_COPD_26057T_PIT_COPD/exp_ct_deform_ds.nii\n",
      "/data-synology/anlee/COPDGene/26058V_HAR_COPD_26058V_HAR_COPD/exp_ct_deform_ds.nii\n",
      "/data-synology/anlee/COPDGene/26059X_HAR_COPD_26059X_HAR_COPD/exp_ct_deform_ds.nii\n",
      "Image mask insp paths:\n",
      "/data-synology/anlee/COPDGene/26055P_PIT_COPD_26055P_PIT_COPD/insp_mask_cat.nii\n",
      "/data-synology/anlee/COPDGene/26056R_HAR_COPD_26056R_HAR_COPD/insp_mask_cat.nii\n",
      "/data-synology/anlee/COPDGene/26057T_PIT_COPD_26057T_PIT_COPD/insp_mask_cat.nii\n",
      "/data-synology/anlee/COPDGene/26058V_HAR_COPD_26058V_HAR_COPD/insp_mask_cat.nii\n",
      "/data-synology/anlee/COPDGene/26059X_HAR_COPD_26059X_HAR_COPD/insp_mask_cat.nii\n"
     ]
    }
   ],
   "source": [
    "# get image pathes for input and target images\n",
    "from tqdm import tqdm\n",
    "\n",
    "root_directory = '/data-synology/anlee/COPDGene/'  # Replace with the actual path to your root directory\n",
    "inputImageName = ('insp_ct_ds.nii') #('insp_ct.nii')\n",
    "outputImageName = ('exp_ct_deform_ds.nii')  # Extensions of the target image files\n",
    "maskInspImageName = ('insp_mask_cat.nii')  # Mask image\n",
    "# maskDefExpImageName = ('exp_mask_deform_cat.nii')  # Mask image\n",
    "\n",
    "\n",
    "def search_images(directory, image_list, name):\n",
    "  for root, dirs, files in tqdm(os.walk(directory)):\n",
    "        for file in files:\n",
    "            if file.endswith(name):\n",
    "                image_path = os.path.join(root, file)\n",
    "                image_list.append(image_path.replace('\\0', ''))  # Add the image path to the list, replace termination character\n",
    "\n",
    "# Create an empty list to store image paths\n",
    "inputImagePath = []\n",
    "outputImagePath = []\n",
    "maskInspImagePath = []\n",
    "#maskDefExpImagePath = []\n",
    "\n",
    "# Call the search_image function with the root directory\n",
    "search_images(root_directory, inputImagePath, inputImageName)\n",
    "search_images(root_directory, outputImagePath, outputImageName)\n",
    "search_images(root_directory, maskInspImagePath, maskInspImageName)\n",
    "#search_images(root_directory, maskDefExpImagePath, maskDefExpImageName)\n",
    "\n",
    "# check if path loaded\n",
    "if inputImagePath:\n",
    "    print(\"Image input paths:\")\n",
    "    for path in inputImagePath[:5]:\n",
    "        print(path)\n",
    "else:\n",
    "    print(\"No image files found in the directory tree.\")\n",
    "\n",
    "if outputImagePath:\n",
    "    print(\"Image ouput paths:\")\n",
    "    for path in outputImagePath[:5]:\n",
    "        print(path)\n",
    "else:\n",
    "    print(\"No image files found in the directory tree.\")\n",
    "    \n",
    "if maskInspImagePath:\n",
    "    print(\"Image mask insp paths:\")\n",
    "    for path in maskInspImagePath[:5]:\n",
    "        print(path)\n",
    "else:\n",
    "    print(\"No image files found in the directory tree.\")\n",
    "    \n",
    "#if maskDefExpImagePath:\n",
    "#    print(\"Image mask defExp paths:\")\n",
    "#    for path in maskDefExpImagePath[:5]:\n",
    "#        print(path)\n",
    "#else:\n",
    "#    print(\"No image files found in the directory tree.\")"
   ]
  },
  {
   "cell_type": "code",
   "execution_count": 6,
   "metadata": {
    "colab": {
     "base_uri": "https://localhost:8080/"
    },
    "executionInfo": {
     "elapsed": 561,
     "status": "ok",
     "timestamp": 1689621403984,
     "user": {
      "displayName": "Thomas Keller",
      "userId": "17223430032597201940"
     },
     "user_tz": 420
    },
    "id": "HiHMHEnb-r12",
    "outputId": "f7eb6796-8c1c-4eac-d482-3f5d286d959d",
    "tags": []
   },
   "outputs": [
    {
     "name": "stdout",
     "output_type": "stream",
     "text": [
      "training data: 6380\n",
      "validation data: 1367\n",
      "test data: 1368\n",
      "train mask inspiratory data: 6380\n",
      "test mask inspiratory data: 1368\n",
      "Image input paths:\n",
      "/data-synology/anlee/COPDGene/23967R_USD_COPD_23967R_USD_COPD/insp_ct_ds.nii\n",
      "/data-synology/anlee/COPDGene/13654Q_UMC_COPD_13654Q_UMC_COPD/insp_ct_ds.nii\n",
      "/data-synology/anlee/COPDGene/20221C_UMC_COPD_20221C_UMC_COPD/insp_ct_ds.nii\n",
      "/data-synology/anlee/COPDGene/25112W_JHU_COPD_25112W_JHU_COPD/insp_ct_ds.nii\n",
      "/data-synology/anlee/COPDGene/10561U_HAR_COPD_10561U_HAR_COPD/insp_ct_ds.nii\n",
      "Image ouput paths:\n",
      "/data-synology/anlee/COPDGene/23967R_USD_COPD_23967R_USD_COPD/exp_ct_deform_ds.nii\n",
      "/data-synology/anlee/COPDGene/13654Q_UMC_COPD_13654Q_UMC_COPD/exp_ct_deform_ds.nii\n",
      "/data-synology/anlee/COPDGene/20221C_UMC_COPD_20221C_UMC_COPD/exp_ct_deform_ds.nii\n",
      "/data-synology/anlee/COPDGene/25112W_JHU_COPD_25112W_JHU_COPD/exp_ct_deform_ds.nii\n",
      "/data-synology/anlee/COPDGene/10561U_HAR_COPD_10561U_HAR_COPD/exp_ct_deform_ds.nii\n",
      "Image mask inspiratory paths:\n",
      "/data-synology/anlee/COPDGene/23967R_USD_COPD_23967R_USD_COPD/insp_mask_cat.nii\n",
      "/data-synology/anlee/COPDGene/13654Q_UMC_COPD_13654Q_UMC_COPD/insp_mask_cat.nii\n",
      "/data-synology/anlee/COPDGene/20221C_UMC_COPD_20221C_UMC_COPD/insp_mask_cat.nii\n",
      "/data-synology/anlee/COPDGene/25112W_JHU_COPD_25112W_JHU_COPD/insp_mask_cat.nii\n",
      "/data-synology/anlee/COPDGene/10561U_HAR_COPD_10561U_HAR_COPD/insp_mask_cat.nii\n"
     ]
    }
   ],
   "source": [
    "from sklearn.model_selection import train_test_split\n",
    "\n",
    "# Convert image paths to lists\n",
    "inputImagePath = list(inputImagePath)\n",
    "outputImagePath = list(outputImagePath)\n",
    "maskInspImagePath = list(maskInspImagePath)\n",
    "#maskDefExpImagePath = list(maskDefExpImagePath)\n",
    "\n",
    "# Split the data into training and test sets list\n",
    "train_input, test_input, train_output, test_output, train_insp_mask, test_insp_mask = train_test_split(\n",
    "    inputImagePath, outputImagePath, maskInspImagePath, test_size=0.3, random_state=42)\n",
    "\n",
    "# Split the data into test and validation sets list\n",
    "val_input, test_input, val_output, test_output, val_insp_mask, test_insp_mask = train_test_split(\n",
    "    test_input, test_output, test_insp_mask, test_size=0.5, random_state=42)\n",
    "\n",
    "print('training data: ' + str(len(train_input)))\n",
    "print('validation data: ' + str(len(val_input)))\n",
    "print('test data: ' + str(len(test_input)))\n",
    "print('train mask inspiratory data: ' + str(len(train_insp_mask)))\n",
    "print('test mask inspiratory data: ' + str(len(test_insp_mask)))\n",
    "#print('train mask expiratory data: ' + str(len(train_exp_mask)))\n",
    "#print('test mask expiratory data: ' + str(len(test_exp_mask)))\n",
    "\n",
    "if train_input:\n",
    "    print(\"Image input paths:\")\n",
    "    for path in train_input[:5]:\n",
    "        print(path)\n",
    "else:\n",
    "    print(\"No image files found in the directory tree.\")\n",
    "\n",
    "if train_output:\n",
    "    print(\"Image ouput paths:\")\n",
    "    for path in train_output[:5]:\n",
    "        print(path)\n",
    "else:\n",
    "    print(\"No image files found in the directory tree.\")\n",
    "    \n",
    "if train_insp_mask:\n",
    "    print(\"Image mask inspiratory paths:\")\n",
    "    for path in train_insp_mask[:5]:\n",
    "        print(path)\n",
    "else:\n",
    "    print(\"No image files found in the directory tree.\")\n",
    "    \n",
    "#if train_exp_mask:\n",
    "#    print(\"Image mask inspiratory paths:\")\n",
    "#    for path in train_exp_mask[:5]:\n",
    "#        print(path)\n",
    "#else:\n",
    "#    print(\"No image files found in the directory tree.\")"
   ]
  },
  {
   "cell_type": "code",
   "execution_count": 7,
   "metadata": {
    "colab": {
     "base_uri": "https://localhost:8080/",
     "height": 447
    },
    "executionInfo": {
     "elapsed": 476,
     "status": "ok",
     "timestamp": 1689621404457,
     "user": {
      "displayName": "Thomas Keller",
      "userId": "17223430032597201940"
     },
     "user_tz": 420
    },
    "id": "egjy5BzVO7C9",
    "outputId": "b284ef91-cafe-4272-a7de-815431919f99",
    "tags": []
   },
   "outputs": [
    {
     "name": "stdout",
     "output_type": "stream",
     "text": [
      "/data-synology/anlee/COPDGene/23967R_USD_COPD_23967R_USD_COPD/insp_ct_ds.nii\n"
     ]
    },
    {
     "data": {
      "image/png": "[encoded data removed]",
      "text/plain": [
       "<Figure size 640x480 with 2 Axes>"
      ]
     },
     "metadata": {},
     "output_type": "display_data"
    }
   ],
   "source": [
    "print(train_input[0])\n",
    "image_dataX = nib.load(train_input[0])\n",
    "image = image_dataX.get_fdata()\n",
    "i,j,k = np.array(image.shape) // 2  # middle slice along the first axis\n",
    "\n",
    "plt.imshow((image[i, :, :].T)/3000, cmap='Greys_r', origin='lower')\n",
    "plt.colorbar()\n",
    "plt.show()"
   ]
  },
  {
   "cell_type": "code",
   "execution_count": 8,
   "metadata": {
    "colab": {
     "base_uri": "https://localhost:8080/"
    },
    "executionInfo": {
     "elapsed": 16,
     "status": "ok",
     "timestamp": 1689621404458,
     "user": {
      "displayName": "Thomas Keller",
      "userId": "17223430032597201940"
     },
     "user_tz": 420
    },
    "id": "_oGRiQDMJVyG",
    "outputId": "e5db1238-9513-464a-98a8-3da7e28704a9",
    "tags": []
   },
   "outputs": [
    {
     "name": "stdout",
     "output_type": "stream",
     "text": [
      "Pixel range: -1.2010332845052083 - 0.6181819254557291\n"
     ]
    }
   ],
   "source": [
    "image_data = np.array(image/3000)\n",
    "\n",
    "pixel_min = image_data.min()\n",
    "pixel_max = image_data.max()\n",
    "\n",
    "# Print the pixel range\n",
    "print(\"Pixel range: {} - {}\".format(pixel_min, pixel_max))"
   ]
  },
  {
   "cell_type": "code",
   "execution_count": 9,
   "metadata": {
    "id": "Trc3urJsKrYI",
    "tags": []
   },
   "outputs": [],
   "source": [
    "# image function to load images\n",
    "def load_image_scale(file_path):\n",
    "    \n",
    "    # load nibable image\n",
    "    image_data = nib.load(file_path).get_fdata()\n",
    "\n",
    "    # scale image\n",
    "    image = (image_data / 3000) \n",
    "    \n",
    "    return image"
   ]
  },
  {
   "cell_type": "code",
   "execution_count": 10,
   "metadata": {},
   "outputs": [],
   "source": [
    "# image function to load images\n",
    "def load_image(file_path):\n",
    "    \n",
    "    # load nibable image\n",
    "    image_data = nib.load(file_path).get_fdata()\n",
    "\n",
    "    image = image_data\n",
    "    \n",
    "    return image"
   ]
  },
  {
   "cell_type": "code",
   "execution_count": 11,
   "metadata": {},
   "outputs": [],
   "source": [
    "def load_image_mask(file_path):\n",
    "    \n",
    "    image_data = nib.load(file_path).get_fdata()\n",
    "\n",
    "    mask = image_data\n",
    "\n",
    "    # binary image mask\n",
    "    binary_mask_slice = np.where((mask > 0) & (mask < 6), 1, 0)\n",
    "    \n",
    "    return binary_mask_slice"
   ]
  },
  {
   "cell_type": "code",
   "execution_count": 12,
   "metadata": {
    "colab": {
     "base_uri": "https://localhost:8080/"
    },
    "executionInfo": {
     "elapsed": 151,
     "status": "ok",
     "timestamp": 1689621404786,
     "user": {
      "displayName": "Thomas Keller",
      "userId": "17223430032597201940"
     },
     "user_tz": 420
    },
    "id": "NzoAC3WZpCag",
    "outputId": "b8219033-aebd-4073-ef21-10be7e6c37d9",
    "tags": []
   },
   "outputs": [
    {
     "data": {
      "text/plain": [
       "'/data-synology/anlee'"
      ]
     },
     "execution_count": 12,
     "metadata": {},
     "output_type": "execute_result"
    }
   ],
   "source": [
    "os.getcwd()"
   ]
  },
  {
   "cell_type": "markdown",
   "metadata": {
    "id": "H8BXEcWvoz53"
   },
   "source": [
    "# Implement the U-Net Generator Model"
   ]
  },
  {
   "cell_type": "code",
   "execution_count": 13,
   "metadata": {
    "colab": {
     "base_uri": "https://localhost:8080/",
     "height": 1000
    },
    "editable": true,
    "executionInfo": {
     "elapsed": 1658,
     "status": "ok",
     "timestamp": 1689621408744,
     "user": {
      "displayName": "Thomas Keller",
      "userId": "17223430032597201940"
     },
     "user_tz": 420
    },
    "id": "V2_vIFLF9X_6",
    "outputId": "7f97adf2-2cef-49a4-85f7-30899c6a8808",
    "slideshow": {
     "slide_type": ""
    },
    "tags": []
   },
   "outputs": [
    {
     "name": "stderr",
     "output_type": "stream",
     "text": [
      "2024-04-10 20:27:47.159021: I tensorflow/compiler/xla/stream_executor/cuda/cuda_gpu_executor.cc:894] successful NUMA node read from SysFS had negative value (-1), but there must be at least one NUMA node, so returning NUMA node zero. See more at https://github.com/torvalds/linux/blob/v6.0/Documentation/ABI/testing/sysfs-bus-pci#L344-L355\n",
      "2024-04-10 20:27:47.160390: I tensorflow/compiler/xla/stream_executor/cuda/cuda_gpu_executor.cc:894] successful NUMA node read from SysFS had negative value (-1), but there must be at least one NUMA node, so returning NUMA node zero. See more at https://github.com/torvalds/linux/blob/v6.0/Documentation/ABI/testing/sysfs-bus-pci#L344-L355\n",
      "2024-04-10 20:27:47.161661: I tensorflow/compiler/xla/stream_executor/cuda/cuda_gpu_executor.cc:894] successful NUMA node read from SysFS had negative value (-1), but there must be at least one NUMA node, so returning NUMA node zero. See more at https://github.com/torvalds/linux/blob/v6.0/Documentation/ABI/testing/sysfs-bus-pci#L344-L355\n",
      "2024-04-10 20:27:47.859336: I tensorflow/compiler/xla/stream_executor/cuda/cuda_gpu_executor.cc:894] successful NUMA node read from SysFS had negative value (-1), but there must be at least one NUMA node, so returning NUMA node zero. See more at https://github.com/torvalds/linux/blob/v6.0/Documentation/ABI/testing/sysfs-bus-pci#L344-L355\n",
      "2024-04-10 20:27:47.860617: I tensorflow/compiler/xla/stream_executor/cuda/cuda_gpu_executor.cc:894] successful NUMA node read from SysFS had negative value (-1), but there must be at least one NUMA node, so returning NUMA node zero. See more at https://github.com/torvalds/linux/blob/v6.0/Documentation/ABI/testing/sysfs-bus-pci#L344-L355\n",
      "2024-04-10 20:27:47.861863: I tensorflow/compiler/xla/stream_executor/cuda/cuda_gpu_executor.cc:894] successful NUMA node read from SysFS had negative value (-1), but there must be at least one NUMA node, so returning NUMA node zero. See more at https://github.com/torvalds/linux/blob/v6.0/Documentation/ABI/testing/sysfs-bus-pci#L344-L355\n",
      "2024-04-10 20:27:47.863079: I tensorflow/core/common_runtime/gpu/gpu_device.cc:1886] Created device /job:localhost/replica:0/task:0/device:GPU:0 with 47199 MB memory:  -> device: 0, name: Quadro RTX 8000, pci bus id: 0000:4b:00.0, compute capability: 7.5\n",
      "/home/tkeller/anaconda3/envs/tf4/lib/python3.9/site-packages/keras/src/initializers/initializers.py:120: UserWarning: The initializer RandomNormal is unseeded and being called multiple times, which will return identical values each time (even if the initializer is unseeded). Please update your code to provide a seed to the initializer, or avoid using the same initializer instance more than once.\n",
      "  warnings.warn(\n"
     ]
    }
   ],
   "source": [
    "from keras.initializers import RandomNormal\n",
    "from keras.models import Model\n",
    "from tensorflow.keras.layers import Input, Conv3D, Conv3DTranspose, Activation, Concatenate, Dropout, BatchNormalization, LeakyReLU, UpSampling3D\n",
    "from keras.regularizers import l2\n",
    "\n",
    "# Define an encoder block for 3D data\n",
    "def define_encoder_block(layer_in, n_filters, batchnorm=True):\n",
    "    # Weight initialization\n",
    "    init = RandomNormal(stddev=0.02)\n",
    "    # Add downsampling layer\n",
    "    g = Conv3D(n_filters, (4,4,4), strides=(2,2,2), padding='same', kernel_initializer=init)(layer_in)  # kernel_regularizer=l2(0.001) if needed\n",
    "    # Conditionally add batch normalization\n",
    "    if batchnorm:\n",
    "        g = BatchNormalization()(g, training=True)\n",
    "    # Leaky relu activation\n",
    "    g = LeakyReLU(alpha=0.2)(g)\n",
    "    return g\n",
    "\n",
    "# Define a decoder block for 3D data\n",
    "def decoder_block(layer_in, skip_in, n_filters, dropout=True):\n",
    "    # Weight initialization\n",
    "    init = RandomNormal(stddev=0.02)\n",
    "    # Add upsampling layer\n",
    "    g = UpSampling3D(size=(2,2,2))(layer_in)\n",
    "    g = Conv3D(n_filters, (3,3,3), strides=(1,1,1), padding='same', kernel_initializer=init)(g)  # kernel_regularizer=l2(0.001) if needed\n",
    "    # Add batch normalization\n",
    "    g = BatchNormalization()(g, training=True)\n",
    "    # Conditionally add dropout\n",
    "    if dropout:\n",
    "        g = Dropout(0.5)(g, training=True)\n",
    "    # Merge with skip connection\n",
    "    g = Concatenate()([g, skip_in])\n",
    "    # Relu activation\n",
    "    g = Activation('relu')(g)\n",
    "    return g\n",
    "\n",
    "# Define the standalone generator model for 3D data\n",
    "def define_generator(image_shape=(192,192,192,1)):  # Adjusted for 3D image shape\n",
    "    # Weight initialization\n",
    "    init = RandomNormal(stddev=0.02)\n",
    "    # Image input\n",
    "    in_image = Input(shape=image_shape)\n",
    "    # Encoder model\n",
    "    e1 = define_encoder_block(in_image, 64, batchnorm=False)\n",
    "    e2 = define_encoder_block(e1, 128)\n",
    "    e3 = define_encoder_block(e2, 256)\n",
    "    e4 = define_encoder_block(e3, 512)\n",
    "    e5 = define_encoder_block(e4, 512)\n",
    "    e6 = define_encoder_block(e5, 512)\n",
    "    # Bottom of the U-Net\n",
    "    b = Conv3D(512, (3,3,3), strides=(1,1,1), padding='same', kernel_initializer=init)(e6)\n",
    "    b = Activation('relu')(b)\n",
    "    # Decoder model\n",
    "    d1 = decoder_block(b, e5, 512)\n",
    "    d2 = decoder_block(d1, e4, 512)\n",
    "    d3 = decoder_block(d2, e3, 512, dropout=False)\n",
    "    d4 = decoder_block(d3, e2, 256, dropout=False)\n",
    "    d5 = decoder_block(d4, e1, 128, dropout=False)\n",
    "    # Output\n",
    "    g = UpSampling3D(size=(2,2,2))(d5)\n",
    "    g1 = Conv3D(1, (3,3,3), strides=(1,1,1), padding='same', kernel_initializer=init)(g)\n",
    "    g2 = Conv3D(1, (3,3,3), strides=(1,1,1), padding='same', kernel_initializer=init)(g)\n",
    "    out_image = Activation('linear', name='output1')(g1)\n",
    "    out_mask = Activation('sigmoid', name='output2')(g2)\n",
    "    # Define model\n",
    "    model = Model(in_image, [out_image, out_mask])\n",
    "    return model\n",
    "\n",
    "# Define image shape for 3D\n",
    "image_shape = (192,192,192,1)  # Adjusted for 3D volume\n",
    "\n",
    "# Create the model\n",
    "model = define_generator(image_shape)\n",
    "\n",
    "# summarize the model\n",
    "# model.summary()\n",
    "\n",
    "# plot the model\n",
    "# plot_model(model, to_file='/data-synology/tkeller/generator_model_plot.png', show_shapes=True, show_layer_names=True)batch_size"
   ]
  },
  {
   "cell_type": "markdown",
   "metadata": {
    "id": "GLSFLZEjtldP"
   },
   "source": [
    "# Update Model Weights"
   ]
  },
  {
   "cell_type": "code",
   "execution_count": 14,
   "metadata": {},
   "outputs": [
    {
     "name": "stdout",
     "output_type": "stream",
     "text": [
      "length train:\n",
      "6380\n",
      "length val:\n",
      "1367\n",
      "steps_per_epoch: 6380\n",
      "validation_steps: 1367\n",
      "number_of_steps_total: 638000\n"
     ]
    }
   ],
   "source": [
    "# select test or train data, for testing purpese\n",
    "if test == 1:\n",
    "    train_input_smaller = train_input[0::128] # every 16th item, starting from the 1th item\n",
    "    train_output_smaller = train_output[0::128] # every 16th item starting from the 1th item\n",
    "    train_mask_insp_smaller = train_insp_mask[0::128]\n",
    "    #train_mask_exp_smaller = train_exp_mask[0::128]\n",
    "    val_input_smaller = val_input[0::128]\n",
    "    val_output_smaller = val_output[0::128] \n",
    "    val_mask_insp_smaller = val_insp_mask[0::128]\n",
    "    #val_mask_exp_smaller = val_exp_mask[0::128]\n",
    "\n",
    "\n",
    "    train_dataset_paths = (train_input_smaller, train_output_smaller)\n",
    "    val_dataset_paths = (val_input_smaller, val_output_smaller)\n",
    "    train_mask_insp_paths = train_mask_insp_smaller\n",
    "    val_mask_insp_paths = val_mask_insp_smaller\n",
    "    #train_mask_exp_paths = train_mask_exp_smaller\n",
    "    #val_mask_exp_paths = val_mask_exp_smaller\n",
    "    \n",
    "else:\n",
    "    train_dataset_paths = (train_input, train_output)\n",
    "    train_mask_insp_paths = train_insp_mask\n",
    "    #train_mask_exp_paths = train_exp_mask\n",
    "    val_dataset_paths = (val_input, val_output)\n",
    "    val_mask_insp_paths = val_insp_mask\n",
    "    #val_mask_exp_paths = val_exp_mask\n",
    "\n",
    "# calucalte steps and so on\n",
    "length = len(train_dataset_paths[0])\n",
    "length2 = len(val_dataset_paths[0])\n",
    "print('length train:')\n",
    "print(length)\n",
    "\n",
    "print('length val:')\n",
    "print(length2)\n",
    "\n",
    "# calculate steps per epoch and validation steps\n",
    "steps_per_epoch = len(train_dataset_paths[0]) // batch_size\n",
    "print('steps_per_epoch: ' + str(steps_per_epoch))\n",
    "\n",
    "validation_steps = len(val_dataset_paths[0]) // batch_size\n",
    "print('validation_steps: ' + str(validation_steps))\n",
    "\n",
    "# calculate the number of training iterations\n",
    "number_of_steps_total = int(steps_per_epoch * number_of_epochs)\n",
    "print('number_of_steps_total: ' + str(number_of_steps_total))\n",
    "\n",
    "# create directory\n",
    "try:\n",
    "    os.mkdir(f\"/data-synology/tkeller/Outputs/3D_nsteps{number_of_steps_total}_batch{batch_size}_DiceLoss_{spec}\")\n",
    "    os.mkdir(f\"/data-synology/tkeller/Outputs/3D_nsteps{number_of_steps_total}_batch{batch_size}_DiceLoss_{spec}/plots\")\n",
    "\n",
    "except Exception as e:\n",
    "    print(\"An error occurred:\", str(e))"
   ]
  },
  {
   "cell_type": "code",
   "execution_count": 15,
   "metadata": {
    "editable": true,
    "slideshow": {
     "slide_type": ""
    },
    "tags": []
   },
   "outputs": [],
   "source": [
    "from random import shuffle\n",
    "\n",
    "# define image generator\n",
    "# Output: yield np.array(train_input_images), [np.array(train_output_images),np.array(train_output_mask)]\n",
    "\n",
    "def data_generator(paths, mask_insp_paths, batch_size):\n",
    "    train_input_paths, train_output_paths = paths\n",
    "    \n",
    "    num_samples = len(train_input_paths)\n",
    "    indices = list(range(num_samples))\n",
    "    \n",
    "    while True:\n",
    "        # Shuffle indices at the beginning of each epoch\n",
    "        shuffle(indices)\n",
    "        \n",
    "        for i in range(0, num_samples, batch_size):\n",
    "            batch_indices = indices[i:i+batch_size]\n",
    "            \n",
    "            train_input_images = []\n",
    "            train_output_images = []\n",
    "            train_output_mask = []\n",
    "            \n",
    "            for idx in batch_indices:\n",
    "                \n",
    "                # load mask\n",
    "                mask = load_image_mask(mask_insp_paths[idx])\n",
    "                # load input image\n",
    "                insp_image = load_image_scale(train_input_paths[idx])\n",
    "                # mask input image\n",
    "                input_image = insp_image * mask\n",
    "                # load deformed exp image\n",
    "                defexp_image = load_image(train_output_paths[idx])\n",
    "                # calculate subtraction and mask it\n",
    "                output_image = defexp_image * mask\n",
    "\n",
    "                diseas_image = (output_image - insp_image) \n",
    "                diseas_mask = np.where(diseas_image < 1/30 , 1, 0) * mask # check\n",
    "                \n",
    "                # append images to input and output train\n",
    "                train_input_images.append(np.expand_dims(input_image, -1))\n",
    "                train_output_images.append(np.expand_dims(output_image, -1))\n",
    "                train_output_mask.append(np.expand_dims(diseas_mask, -1))\n",
    "            \n",
    "            yield np.array(train_input_images), [np.array(train_output_images),np.array(train_output_mask)]\n"
   ]
  },
  {
   "cell_type": "code",
   "execution_count": 16,
   "metadata": {},
   "outputs": [],
   "source": [
    "# create data generators for test and validation\n",
    "training_generator = data_generator(train_dataset_paths, train_mask_insp_paths, batch_size)\n",
    "val_generator = data_generator(val_dataset_paths, val_mask_insp_paths, batch_size)"
   ]
  },
  {
   "cell_type": "code",
   "execution_count": 17,
   "metadata": {},
   "outputs": [
    {
     "name": "stdout",
     "output_type": "stream",
     "text": [
      "(1, 192, 192, 192, 1) (1, 192, 192, 192, 1) (1, 192, 192, 192, 1)\n"
     ]
    }
   ],
   "source": [
    "# Example to test the generator output\n",
    "gen = data_generator(train_dataset_paths, train_mask_insp_paths, batch_size)\n",
    "inputs, (outputs, outputs2) = next(gen)\n",
    "\n",
    "print(inputs.shape, outputs.shape, outputs2.shape)\n",
    "\n",
    "# visualize a slice from the first volume in the batch\n",
    "# plt.imshow(inputs[0, :, :, 95, 0], cmap='gray')  # Adjust indexing based on your data shape\n",
    "# plt.show()\n"
   ]
  },
  {
   "cell_type": "code",
   "execution_count": 18,
   "metadata": {
    "id": "zV0TT8C-tqgl",
    "tags": []
   },
   "outputs": [],
   "source": [
    "# plot function for training and validation\n",
    "class PlotLosses(tf.keras.callbacks.Callback):\n",
    "    def on_train_begin(self, logs={}):\n",
    "        self.i = 0\n",
    "        self.x = []\n",
    "        self.losses = []\n",
    "        self.val_losses = []\n",
    "        self.fig = plt.figure()\n",
    "        \n",
    "    def on_epoch_end(self, epoch, logs={}):\n",
    "        self.x.append(self.i)\n",
    "        self.losses.append(logs.get('loss'))\n",
    "        self.val_losses.append(logs.get('val_loss'))\n",
    "        self.i += 1\n",
    "        \n",
    "        plt.clf()  # Clear the current figure contents\n",
    "        plt.plot(self.x, self.losses, label=\"loss\")\n",
    "        plt.plot(self.x, self.val_losses, label=\"val_loss\")\n",
    "        plt.legend()\n",
    "        plt.title(\"Training and Validation Loss per Epoch\")\n",
    "        plt.xlabel(\"Epoch\")\n",
    "        plt.ylabel(\"Loss\")\n",
    "        \n",
    "        # Save the figure\n",
    "        plt.savefig(f'/data-synology/tkeller/Outputs/3D_nsteps{number_of_steps_total}_batch{batch_size}_DiceLoss_{spec}/plots/epoch_{epoch}_plot.png')\n",
    "        # plt.show()\n",
    "\n",
    "plot_losses = PlotLosses()"
   ]
  },
  {
   "cell_type": "code",
   "execution_count": 19,
   "metadata": {},
   "outputs": [],
   "source": [
    "# log files\n",
    "csv_logger = tf.keras.callbacks.CSVLogger(f'/data-synology/tkeller/Outputs/3D_nsteps{number_of_steps_total}_batch{batch_size}_DiceLoss_{spec}/training.log')\n",
    "# save model val imporve\n",
    "model_checkpoint = tf.keras.callbacks.ModelCheckpoint(\n",
    "    f'/data-synology/tkeller/Outputs/3D_nsteps{number_of_steps_total}_batch{batch_size}_DiceLoss_{spec}',\n",
    "    monitor = 'val_loss',\n",
    "    verbose = 1,\n",
    "    save_best_only = True,\n",
    "    save_weights_only = False)"
   ]
  },
  {
   "cell_type": "code",
   "execution_count": 20,
   "metadata": {},
   "outputs": [],
   "source": [
    "# dice coefficent calcualtion\n",
    "def dice_coefficient(y_true, y_pred, threshold=100, scale=3000):\n",
    "    \n",
    "    epsilon = 1e-6\n",
    "    y_true = tf.cast(y_true, tf.float32)\n",
    "    \n",
    "    intersection = tf.reduce_sum(y_true * y_pred)\n",
    "    union = tf.reduce_sum(y_true) + tf.reduce_sum(y_pred) + epsilon\n",
    "    \n",
    "    dice = (2. * intersection + epsilon) / union\n",
    "    return (1 - dice)  # For loss, return 1 - dice to minimize"
   ]
  },
  {
   "cell_type": "code",
   "execution_count": null,
   "metadata": {
    "scrolled": true
   },
   "outputs": [],
   "source": [
    "from tensorflow.keras.optimizers import Adam\n",
    "\n",
    "# model compile\n",
    "opt = Adam(learning_rate=0.0002, beta_1=0.5) # 0.0002\n",
    "\n",
    "model.compile(optimizer=opt,\n",
    "              loss={'output1': 'mae', 'output2': dice_coefficient},\n",
    "              metrics={'output1': ['mae'], 'output2': [dice_coefficient]},\n",
    "              loss_weights={'output1': 0.0, 'output2': 1.0})\n",
    "\n",
    "# model fit, start training\n",
    "model.fit(training_generator,\n",
    "          validation_data=val_generator,\n",
    "          steps_per_epoch=steps_per_epoch,\n",
    "          validation_steps=validation_steps,\n",
    "          batch_size = batch_size,\n",
    "          epochs=number_of_epochs,\n",
    "          callbacks=[csv_logger, model_checkpoint, plot_losses])\n",
    "\n",
    "print('Training/Validation done')"
   ]
  },
  {
   "cell_type": "code",
   "execution_count": null,
   "metadata": {},
   "outputs": [],
   "source": [
    "os.getcwd()"
   ]
  },
  {
   "cell_type": "code",
   "execution_count": null,
   "metadata": {
    "editable": true,
    "id": "j58nAUZeLoCs",
    "slideshow": {
     "slide_type": ""
    },
    "tags": []
   },
   "outputs": [],
   "source": [
    "# Read data from log file\n",
    "with open(f'/data-synology/tkeller/Outputs/3D_nsteps{number_of_steps_total}_batch{batch_size}_DiceLoss_{spec}/training.log', 'r') as f:\n",
    "    lines = f.readlines()\n",
    "\n",
    "# Skip the header\n",
    "lines = lines[1:]\n",
    "\n",
    "# Split data\n",
    "epochs = []\n",
    "loss = []\n",
    "val_loss = []\n",
    "\n",
    "for line in lines:\n",
    "    data = line.strip().split(',')\n",
    "    epochs.append(int(data[0]))\n",
    "    loss.append(float(data[1]))\n",
    "    val_loss.append(float(data[2]))\n",
    "\n",
    "# Plot data\n",
    "plt.figure(figsize=(10, 6))\n",
    "plt.plot(epochs, loss, label='Training Loss', marker='o')\n",
    "plt.plot(epochs, val_loss, label='Validation Loss', marker='o')\n",
    "plt.title('Training and Validation Loss')\n",
    "plt.xlabel('Epochs')\n",
    "plt.ylabel('Loss')\n",
    "plt.legend()\n",
    "# plt.grid(True)\n",
    "plt.show()\n"
   ]
  },
  {
   "cell_type": "markdown",
   "metadata": {
    "id": "4ZAc3uLSjLkB"
   },
   "source": [
    "Image generator\n"
   ]
  },
  {
   "cell_type": "code",
   "execution_count": null,
   "metadata": {},
   "outputs": [],
   "source": [
    "# load model"
   ]
  },
  {
   "cell_type": "code",
   "execution_count": null,
   "metadata": {
    "id": "Q_pUI_U_iMCS",
    "tags": []
   },
   "outputs": [],
   "source": [
    "def generate_images(model, test_input, tar, tar_mask):\n",
    "    # Get the prediction from the model\n",
    "    prediction, prediction_mask = model(test_input, training=True)\n",
    "\n",
    "    # Convert back to normal values if needed\n",
    "    prediction = prediction * 3000\n",
    "    \n",
    "    for j in range(3):  # display images for the first 3 examples\n",
    "        plt.figure(figsize=(20, 10))\n",
    "\n",
    "        # Calculate the index of the middle slice\n",
    "        middle_slice_idx = test_input.shape[1] // 2  # test_input.shape[1] is the depth dimension\n",
    "\n",
    "        # Select the middle slice for each input, output, and prediction\n",
    "        display_list = [\n",
    "            test_input[j, middle_slice_idx, :, :, 0],  # Middle slice of the input\n",
    "            tar[j, middle_slice_idx, :, :, 0],         # Middle slice of the ground truth output\n",
    "            prediction[j, middle_slice_idx, :, :, 0],  # Middle slice of the predicted output\n",
    "            tar_mask[j, middle_slice_idx, :, :, 0],    # Middle slice of the ground truth mask\n",
    "            prediction_mask[j, middle_slice_idx, :, :, 0]  # Middle slice of the predicted mask\n",
    "        ]\n",
    "\n",
    "        title = ['Input Image', 'Ground Truth Image', 'Predicted Image', 'Ground Truth Mask', 'Predicted Mask']\n",
    "\n",
    "        for i in range(5):\n",
    "            plt.subplot(1, 5, i+1)\n",
    "            plt.title(title[i])\n",
    "            # Display the mask images differently if needed\n",
    "            if i >= 3:  # Adjust threshold or colormap for masks if necessary\n",
    "                plt.imshow(display_list[i] > 0.5, cmap='gray', origin='lower')\n",
    "            else:\n",
    "                plt.imshow(display_list[i], cmap='gray', origin='lower')\n",
    "            plt.axis('off')\n",
    "\n",
    "        plt.savefig(f'/data-synology/tkeller/Outputs/3D_nsteps{number_of_steps_total}_batch{batch_size}_DiceLoss_{spec}/ExOutputImage_{number_of_steps_total}_{batch_size}_{j}.png', dpi=500)\n",
    "        plt.show()\n"
   ]
  },
  {
   "cell_type": "markdown",
   "metadata": {
    "id": "loEpc84OO7zn"
   },
   "source": [
    "Create datatrain for Image generator"
   ]
  },
  {
   "cell_type": "code",
   "execution_count": null,
   "metadata": {
    "id": "QtdDtTnpmgG8",
    "tags": []
   },
   "outputs": [],
   "source": [
    "from random import sample\n",
    "\n",
    "# validation data is used to check if model works correct\n",
    "\n",
    "n_samples = 3\n",
    "random_indices = sample(range(len(val_input)), n_samples)\n",
    "print(random_indices)\n",
    "\n",
    "# pick n_samples random samples from validation dataset\n",
    "random_input_paths_val = [val_input[idx] for idx in random_indices]\n",
    "random_output_paths_val = [val_output[idx] for idx in random_indices]\n",
    "random_mask_insp_paths_val = [val_insp_mask[idx] for idx in random_indices]\n",
    "# random_mask_exp_paths_val = [val_exp_mask[idx] for idx in random_indices]\n",
    "\n",
    "\n",
    "val_input_images = []\n",
    "val_output_images = []\n",
    "\n",
    "#for input_path, output_path in zip(test_input, test_output):\n",
    "for input_path, output_path, mask_insp_path in zip(random_input_paths_val, random_output_paths_val, random_mask_insp_paths_val):\n",
    "    # select random slice of 3D image: 0-191\n",
    "    mask = load_image_mask(mask_insp_path)\n",
    "    input_image = load_image_scale(input_path) * mask\n",
    "    defexp_image = load_image(output_path)\n",
    "    output_image = defexp_image * mask\n",
    "    val_input_images.append(np.expand_dims(input_image, -1))\n",
    "    val_output_images.append(np.expand_dims(output_image, -1))\n",
    "\n",
    "#val_dataset = (val_input_images, val_output_images)"
   ]
  },
  {
   "cell_type": "code",
   "execution_count": null,
   "metadata": {
    "id": "xsDz_D63j-uS",
    "tags": []
   },
   "outputs": [],
   "source": [
    "# create np.array\n",
    "dataset = val_input_images, val_output_images\n",
    "val_dataset = np.array(dataset)\n"
   ]
  },
  {
   "cell_type": "markdown",
   "metadata": {
    "id": "JXu1G5ZlPDBS"
   },
   "source": [
    "Generate \"Fake\" Image predicitons"
   ]
  },
  {
   "cell_type": "code",
   "execution_count": null,
   "metadata": {
    "id": "xEL0OG43iNJk",
    "tags": []
   },
   "outputs": [],
   "source": [
    "#for element in test_dataset[1]:\n",
    "\n",
    "dataset = val_dataset\n",
    "trainA2 = dataset[0]\n",
    "trainB2 = dataset[1]\n",
    "\n",
    "generate_images(model, trainA2, trainB2)"
   ]
  },
  {
   "cell_type": "code",
   "execution_count": null,
   "metadata": {
    "id": "ZjvPWbxcL17j",
    "tags": []
   },
   "outputs": [],
   "source": []
  }
 ],
 "metadata": {
  "accelerator": "GPU",
  "colab": {
   "authorship_tag": "ABX9TyN1CR7+GzcjQFmlCHH6fZ8Y",
   "provenance": []
  },
  "kernelspec": {
   "display_name": "Python 3 (ipykernel)",
   "language": "python",
   "name": "python3"
  },
  "language_info": {
   "codemirror_mode": {
    "name": "ipython",
    "version": 3
   },
   "file_extension": ".py",
   "mimetype": "text/x-python",
   "name": "python",
   "nbconvert_exporter": "python",
   "pygments_lexer": "ipython3",
   "version": "3.11.4"
  }
 },
 "nbformat": 4,
 "nbformat_minor": 4
}
